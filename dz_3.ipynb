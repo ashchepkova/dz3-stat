{
 "cells": [
  {
   "cell_type": "markdown",
   "metadata": {
    "colab_type": "text",
    "id": "9wqpiQR2AbtX"
   },
   "source": [
    "# Домашнее задание №3"
   ]
  },
  {
   "cell_type": "code",
   "execution_count": 103,
   "metadata": {
    "colab": {},
    "colab_type": "code",
    "collapsed": true,
    "id": "Zo_j9HCKCPgi"
   },
   "outputs": [],
   "source": [
    "import numpy as np\n",
    "from scipy.stats import t\n",
    "from scipy.stats import norm\n",
    "import matplotlib.pyplot as plt\n",
    "from scipy import stats\n",
    "import pandas as pd\n",
    "import io\n",
    "import requests\n",
    "import seaborn as sns\n",
    "sns.set()\n",
    "\n",
    "%matplotlib inline"
   ]
  },
  {
   "cell_type": "markdown",
   "metadata": {
    "colab_type": "text",
    "id": "LrhPyaIACZsb"
   },
   "source": [
    "Таблица Indian liver pations records."
   ]
  },
  {
   "cell_type": "markdown",
   "metadata": {},
   "source": [
    "Загрузить датасет https://www.kaggle.com/uciml/indian-liver-patient-records. "
   ]
  },
  {
   "cell_type": "code",
   "execution_count": 104,
   "metadata": {
    "colab": {
     "base_uri": "https://localhost:8080/",
     "height": 224
    },
    "colab_type": "code",
    "id": "LQWcltRn-vZc",
    "outputId": "57d517f0-64f9-47c1-e092-b724da8029a1"
   },
   "outputs": [
    {
     "data": {
      "text/html": [
       "<div>\n",
       "<style scoped>\n",
       "    .dataframe tbody tr th:only-of-type {\n",
       "        vertical-align: middle;\n",
       "    }\n",
       "\n",
       "    .dataframe tbody tr th {\n",
       "        vertical-align: top;\n",
       "    }\n",
       "\n",
       "    .dataframe thead th {\n",
       "        text-align: right;\n",
       "    }\n",
       "</style>\n",
       "<table border=\"1\" class=\"dataframe\">\n",
       "  <thead>\n",
       "    <tr style=\"text-align: right;\">\n",
       "      <th></th>\n",
       "      <th>Age</th>\n",
       "      <th>Gender</th>\n",
       "      <th>Total_Bilirubin</th>\n",
       "      <th>Direct_Bilirubin</th>\n",
       "      <th>Alkaline_Phosphotase</th>\n",
       "      <th>Alamine_Aminotransferase</th>\n",
       "      <th>Aspartate_Aminotransferase</th>\n",
       "      <th>Total_Protiens</th>\n",
       "      <th>Albumin</th>\n",
       "      <th>Albumin_and_Globulin_Ratio</th>\n",
       "      <th>Dataset</th>\n",
       "    </tr>\n",
       "  </thead>\n",
       "  <tbody>\n",
       "    <tr>\n",
       "      <th>578</th>\n",
       "      <td>60</td>\n",
       "      <td>Male</td>\n",
       "      <td>0.5</td>\n",
       "      <td>0.1</td>\n",
       "      <td>500</td>\n",
       "      <td>20</td>\n",
       "      <td>34</td>\n",
       "      <td>5.9</td>\n",
       "      <td>1.6</td>\n",
       "      <td>0.37</td>\n",
       "      <td>2</td>\n",
       "    </tr>\n",
       "    <tr>\n",
       "      <th>579</th>\n",
       "      <td>40</td>\n",
       "      <td>Male</td>\n",
       "      <td>0.6</td>\n",
       "      <td>0.1</td>\n",
       "      <td>98</td>\n",
       "      <td>35</td>\n",
       "      <td>31</td>\n",
       "      <td>6.0</td>\n",
       "      <td>3.2</td>\n",
       "      <td>1.10</td>\n",
       "      <td>1</td>\n",
       "    </tr>\n",
       "    <tr>\n",
       "      <th>580</th>\n",
       "      <td>52</td>\n",
       "      <td>Male</td>\n",
       "      <td>0.8</td>\n",
       "      <td>0.2</td>\n",
       "      <td>245</td>\n",
       "      <td>48</td>\n",
       "      <td>49</td>\n",
       "      <td>6.4</td>\n",
       "      <td>3.2</td>\n",
       "      <td>1.00</td>\n",
       "      <td>1</td>\n",
       "    </tr>\n",
       "    <tr>\n",
       "      <th>581</th>\n",
       "      <td>31</td>\n",
       "      <td>Male</td>\n",
       "      <td>1.3</td>\n",
       "      <td>0.5</td>\n",
       "      <td>184</td>\n",
       "      <td>29</td>\n",
       "      <td>32</td>\n",
       "      <td>6.8</td>\n",
       "      <td>3.4</td>\n",
       "      <td>1.00</td>\n",
       "      <td>1</td>\n",
       "    </tr>\n",
       "    <tr>\n",
       "      <th>582</th>\n",
       "      <td>38</td>\n",
       "      <td>Male</td>\n",
       "      <td>1.0</td>\n",
       "      <td>0.3</td>\n",
       "      <td>216</td>\n",
       "      <td>21</td>\n",
       "      <td>24</td>\n",
       "      <td>7.3</td>\n",
       "      <td>4.4</td>\n",
       "      <td>1.50</td>\n",
       "      <td>2</td>\n",
       "    </tr>\n",
       "  </tbody>\n",
       "</table>\n",
       "</div>"
      ],
      "text/plain": [
       "     Age Gender  Total_Bilirubin  Direct_Bilirubin  Alkaline_Phosphotase  \\\n",
       "578   60   Male              0.5               0.1                   500   \n",
       "579   40   Male              0.6               0.1                    98   \n",
       "580   52   Male              0.8               0.2                   245   \n",
       "581   31   Male              1.3               0.5                   184   \n",
       "582   38   Male              1.0               0.3                   216   \n",
       "\n",
       "     Alamine_Aminotransferase  Aspartate_Aminotransferase  Total_Protiens  \\\n",
       "578                        20                          34             5.9   \n",
       "579                        35                          31             6.0   \n",
       "580                        48                          49             6.4   \n",
       "581                        29                          32             6.8   \n",
       "582                        21                          24             7.3   \n",
       "\n",
       "     Albumin  Albumin_and_Globulin_Ratio  Dataset  \n",
       "578      1.6                        0.37        2  \n",
       "579      3.2                        1.10        1  \n",
       "580      3.2                        1.00        1  \n",
       "581      3.4                        1.00        1  \n",
       "582      4.4                        1.50        2  "
      ]
     },
     "execution_count": 104,
     "metadata": {},
     "output_type": "execute_result"
    }
   ],
   "source": [
    "url=\"http://yustiks.ru/dataset/indian_liver_patient.csv\"\n",
    "data=pd.read_csv(url)\n",
    "data.tail()"
   ]
  },
  {
   "cell_type": "code",
   "execution_count": 105,
   "metadata": {},
   "outputs": [
    {
     "name": "stdout",
     "output_type": "stream",
     "text": [
      "(583, 1)\n",
      "(583,)\n"
     ]
    }
   ],
   "source": [
    "x = data['Direct_Bilirubin']\n",
    "y = data['Total_Bilirubin']\n",
    "x_1 = np.array(x).reshape(-1,1)\n",
    "print(np.shape(x_1))\n",
    "print(np.shape(y))"
   ]
  },
  {
   "cell_type": "code",
   "execution_count": 106,
   "metadata": {
    "collapsed": true
   },
   "outputs": [],
   "source": [
    "from sklearn.linear_model import LinearRegression\n",
    "model = LinearRegression()"
   ]
  },
  {
   "cell_type": "code",
   "execution_count": 107,
   "metadata": {
    "collapsed": true
   },
   "outputs": [],
   "source": [
    "from sklearn.model_selection import train_test_split\n",
    "\n",
    "X_train, X_test, y_train, y_test = train_test_split(\n",
    "    x_1,\n",
    "    y,\n",
    "    test_size = 0.2,\n",
    "    random_state = 3\n",
    ")"
   ]
  },
  {
   "cell_type": "code",
   "execution_count": 108,
   "metadata": {},
   "outputs": [
    {
     "data": {
      "text/plain": [
       "LinearRegression(copy_X=True, fit_intercept=True, n_jobs=1, normalize=False)"
      ]
     },
     "execution_count": 108,
     "metadata": {},
     "output_type": "execute_result"
    }
   ],
   "source": [
    "model.fit(X_train, y_train)"
   ]
  },
  {
   "cell_type": "code",
   "execution_count": 109,
   "metadata": {
    "collapsed": true
   },
   "outputs": [],
   "source": [
    "predicted_y = model.predict(X_test)"
   ]
  },
  {
   "cell_type": "code",
   "execution_count": 110,
   "metadata": {},
   "outputs": [
    {
     "data": {
      "text/plain": [
       "0.9185229858613643"
      ]
     },
     "execution_count": 110,
     "metadata": {},
     "output_type": "execute_result"
    }
   ],
   "source": [
    "model.score(X_test, y_test)"
   ]
  },
  {
   "cell_type": "code",
   "execution_count": 111,
   "metadata": {},
   "outputs": [
    {
     "data": {
      "text/plain": [
       "(array([1.96118232]), 0.4331838768322176)"
      ]
     },
     "execution_count": 111,
     "metadata": {},
     "output_type": "execute_result"
    }
   ],
   "source": [
    "model.coef_, model.intercept_"
   ]
  },
  {
   "cell_type": "code",
   "execution_count": 112,
   "metadata": {},
   "outputs": [
    {
     "data": {
      "text/plain": [
       "array([20.04500708])"
      ]
     },
     "execution_count": 112,
     "metadata": {},
     "output_type": "execute_result"
    }
   ],
   "source": [
    "model.predict(10)"
   ]
  },
  {
   "cell_type": "code",
   "execution_count": 113,
   "metadata": {},
   "outputs": [
    {
     "data": {
      "image/png": "[encoded data removed]",
      "text/plain": [
       "<matplotlib.figure.Figure at 0x1a1f57c470>"
      ]
     },
     "metadata": {},
     "output_type": "display_data"
    }
   ],
   "source": [
    "plt.xlabel('Direct Bilirubin')\n",
    "plt.ylabel('Total Bilirubin')\n",
    "plt.title('Linear Regression')\n",
    "x = np.linspace(-5, 20, 100)\n",
    "y = model.coef_*x + model.intercept_\n",
    "plt.plot(x, y)\n",
    "plt.plot(data['Direct_Bilirubin'], data['Total_Bilirubin'], 'r.')\n",
    "plt.show()"
   ]
  },
  {
   "cell_type": "markdown",
   "metadata": {
    "colab_type": "text",
    "id": "XyNNmtvIDDy3"
   },
   "source": [
    "Columns:\n",
    "\n",
    "*  Age of the patient\n",
    "*  Gender of the patient\n",
    "*  Total Bilirubin\n",
    "*  Direct Bilirubin\n",
    "*  Alkaline Phosphotase\n",
    "*  Alamine Aminotransferase\n",
    "*  Aspartate Aminotransferase\n",
    "*  Total Protiens\n",
    "*  Albumin\n",
    "*  Albumin and Globulin Ratio\n",
    "*  Dataset: field used to split the data into two sets (patient with liver disease, or no disease)\n"
   ]
  },
  {
   "cell_type": "code",
   "execution_count": 114,
   "metadata": {},
   "outputs": [
    {
     "data": {
      "text/plain": [
       "0.9137737205201688"
      ]
     },
     "execution_count": 114,
     "metadata": {},
     "output_type": "execute_result"
    }
   ],
   "source": [
    "# Полиномиальная регрессия\n",
    "from sklearn.preprocessing import PolynomialFeatures\n",
    "poly_reg = PolynomialFeatures(degree=2)\n",
    "X_poly = poly_reg.fit_transform(X_train)\n",
    "pol_reg = LinearRegression()\n",
    "pol_reg.fit(X_poly, y_train)\n",
    "pol_reg.score(poly_reg.fit_transform(X_test), y_test)"
   ]
  },
  {
   "cell_type": "code",
   "execution_count": 115,
   "metadata": {
    "collapsed": true
   },
   "outputs": [],
   "source": [
    "data['Gender'] = data['Gender'].map({'Male': 1, 'Female': 0})"
   ]
  },
  {
   "cell_type": "code",
   "execution_count": 116,
   "metadata": {},
   "outputs": [
    {
     "data": {
      "text/plain": [
       "Age                           0\n",
       "Gender                        0\n",
       "Total_Bilirubin               0\n",
       "Direct_Bilirubin              0\n",
       "Alkaline_Phosphotase          0\n",
       "Alamine_Aminotransferase      0\n",
       "Aspartate_Aminotransferase    0\n",
       "Total_Protiens                0\n",
       "Albumin                       0\n",
       "Albumin_and_Globulin_Ratio    4\n",
       "Dataset                       0\n",
       "dtype: int64"
      ]
     },
     "execution_count": 116,
     "metadata": {},
     "output_type": "execute_result"
    }
   ],
   "source": [
    "data.isnull().sum()"
   ]
  },
  {
   "cell_type": "code",
   "execution_count": 117,
   "metadata": {
    "collapsed": true
   },
   "outputs": [],
   "source": [
    "data['Albumin_and_Globulin_Ratio'] = data['Albumin_and_Globulin_Ratio'].fillna(value = 0)"
   ]
  },
  {
   "cell_type": "code",
   "execution_count": 118,
   "metadata": {},
   "outputs": [
    {
     "data": {
      "text/plain": [
       "Age                           0\n",
       "Gender                        0\n",
       "Total_Bilirubin               0\n",
       "Direct_Bilirubin              0\n",
       "Alkaline_Phosphotase          0\n",
       "Alamine_Aminotransferase      0\n",
       "Aspartate_Aminotransferase    0\n",
       "Total_Protiens                0\n",
       "Albumin                       0\n",
       "Albumin_and_Globulin_Ratio    0\n",
       "Dataset                       0\n",
       "dtype: int64"
      ]
     },
     "execution_count": 118,
     "metadata": {},
     "output_type": "execute_result"
    }
   ],
   "source": [
    "data.isnull().sum()"
   ]
  },
  {
   "cell_type": "code",
   "execution_count": 119,
   "metadata": {},
   "outputs": [
    {
     "data": {
      "text/html": [
       "<div>\n",
       "<style scoped>\n",
       "    .dataframe tbody tr th:only-of-type {\n",
       "        vertical-align: middle;\n",
       "    }\n",
       "\n",
       "    .dataframe tbody tr th {\n",
       "        vertical-align: top;\n",
       "    }\n",
       "\n",
       "    .dataframe thead th {\n",
       "        text-align: right;\n",
       "    }\n",
       "</style>\n",
       "<table border=\"1\" class=\"dataframe\">\n",
       "  <thead>\n",
       "    <tr style=\"text-align: right;\">\n",
       "      <th></th>\n",
       "      <th>Age</th>\n",
       "      <th>Gender</th>\n",
       "      <th>Total_Bilirubin</th>\n",
       "      <th>Direct_Bilirubin</th>\n",
       "      <th>Alkaline_Phosphotase</th>\n",
       "      <th>Alamine_Aminotransferase</th>\n",
       "      <th>Aspartate_Aminotransferase</th>\n",
       "      <th>Total_Protiens</th>\n",
       "      <th>Albumin</th>\n",
       "      <th>Albumin_and_Globulin_Ratio</th>\n",
       "      <th>Dataset</th>\n",
       "    </tr>\n",
       "  </thead>\n",
       "  <tbody>\n",
       "    <tr>\n",
       "      <th>count</th>\n",
       "      <td>583.000000</td>\n",
       "      <td>583.000000</td>\n",
       "      <td>583.000000</td>\n",
       "      <td>583.000000</td>\n",
       "      <td>583.000000</td>\n",
       "      <td>583.000000</td>\n",
       "      <td>583.000000</td>\n",
       "      <td>583.000000</td>\n",
       "      <td>583.000000</td>\n",
       "      <td>583.000000</td>\n",
       "      <td>583.000000</td>\n",
       "    </tr>\n",
       "    <tr>\n",
       "      <th>mean</th>\n",
       "      <td>44.746141</td>\n",
       "      <td>0.756432</td>\n",
       "      <td>3.298799</td>\n",
       "      <td>1.486106</td>\n",
       "      <td>290.576329</td>\n",
       "      <td>80.713551</td>\n",
       "      <td>109.910806</td>\n",
       "      <td>6.483190</td>\n",
       "      <td>3.141852</td>\n",
       "      <td>0.940566</td>\n",
       "      <td>1.286449</td>\n",
       "    </tr>\n",
       "    <tr>\n",
       "      <th>std</th>\n",
       "      <td>16.189833</td>\n",
       "      <td>0.429603</td>\n",
       "      <td>6.209522</td>\n",
       "      <td>2.808498</td>\n",
       "      <td>242.937989</td>\n",
       "      <td>182.620356</td>\n",
       "      <td>288.918529</td>\n",
       "      <td>1.085451</td>\n",
       "      <td>0.795519</td>\n",
       "      <td>0.327962</td>\n",
       "      <td>0.452490</td>\n",
       "    </tr>\n",
       "    <tr>\n",
       "      <th>min</th>\n",
       "      <td>4.000000</td>\n",
       "      <td>0.000000</td>\n",
       "      <td>0.400000</td>\n",
       "      <td>0.100000</td>\n",
       "      <td>63.000000</td>\n",
       "      <td>10.000000</td>\n",
       "      <td>10.000000</td>\n",
       "      <td>2.700000</td>\n",
       "      <td>0.900000</td>\n",
       "      <td>0.000000</td>\n",
       "      <td>1.000000</td>\n",
       "    </tr>\n",
       "    <tr>\n",
       "      <th>25%</th>\n",
       "      <td>33.000000</td>\n",
       "      <td>1.000000</td>\n",
       "      <td>0.800000</td>\n",
       "      <td>0.200000</td>\n",
       "      <td>175.500000</td>\n",
       "      <td>23.000000</td>\n",
       "      <td>25.000000</td>\n",
       "      <td>5.800000</td>\n",
       "      <td>2.600000</td>\n",
       "      <td>0.700000</td>\n",
       "      <td>1.000000</td>\n",
       "    </tr>\n",
       "    <tr>\n",
       "      <th>50%</th>\n",
       "      <td>45.000000</td>\n",
       "      <td>1.000000</td>\n",
       "      <td>1.000000</td>\n",
       "      <td>0.300000</td>\n",
       "      <td>208.000000</td>\n",
       "      <td>35.000000</td>\n",
       "      <td>42.000000</td>\n",
       "      <td>6.600000</td>\n",
       "      <td>3.100000</td>\n",
       "      <td>0.920000</td>\n",
       "      <td>1.000000</td>\n",
       "    </tr>\n",
       "    <tr>\n",
       "      <th>75%</th>\n",
       "      <td>58.000000</td>\n",
       "      <td>1.000000</td>\n",
       "      <td>2.600000</td>\n",
       "      <td>1.300000</td>\n",
       "      <td>298.000000</td>\n",
       "      <td>60.500000</td>\n",
       "      <td>87.000000</td>\n",
       "      <td>7.200000</td>\n",
       "      <td>3.800000</td>\n",
       "      <td>1.100000</td>\n",
       "      <td>2.000000</td>\n",
       "    </tr>\n",
       "    <tr>\n",
       "      <th>max</th>\n",
       "      <td>90.000000</td>\n",
       "      <td>1.000000</td>\n",
       "      <td>75.000000</td>\n",
       "      <td>19.700000</td>\n",
       "      <td>2110.000000</td>\n",
       "      <td>2000.000000</td>\n",
       "      <td>4929.000000</td>\n",
       "      <td>9.600000</td>\n",
       "      <td>5.500000</td>\n",
       "      <td>2.800000</td>\n",
       "      <td>2.000000</td>\n",
       "    </tr>\n",
       "  </tbody>\n",
       "</table>\n",
       "</div>"
      ],
      "text/plain": [
       "              Age      Gender  Total_Bilirubin  Direct_Bilirubin  \\\n",
       "count  583.000000  583.000000       583.000000        583.000000   \n",
       "mean    44.746141    0.756432         3.298799          1.486106   \n",
       "std     16.189833    0.429603         6.209522          2.808498   \n",
       "min      4.000000    0.000000         0.400000          0.100000   \n",
       "25%     33.000000    1.000000         0.800000          0.200000   \n",
       "50%     45.000000    1.000000         1.000000          0.300000   \n",
       "75%     58.000000    1.000000         2.600000          1.300000   \n",
       "max     90.000000    1.000000        75.000000         19.700000   \n",
       "\n",
       "       Alkaline_Phosphotase  Alamine_Aminotransferase  \\\n",
       "count            583.000000                583.000000   \n",
       "mean             290.576329                 80.713551   \n",
       "std              242.937989                182.620356   \n",
       "min               63.000000                 10.000000   \n",
       "25%              175.500000                 23.000000   \n",
       "50%              208.000000                 35.000000   \n",
       "75%              298.000000                 60.500000   \n",
       "max             2110.000000               2000.000000   \n",
       "\n",
       "       Aspartate_Aminotransferase  Total_Protiens     Albumin  \\\n",
       "count                  583.000000      583.000000  583.000000   \n",
       "mean                   109.910806        6.483190    3.141852   \n",
       "std                    288.918529        1.085451    0.795519   \n",
       "min                     10.000000        2.700000    0.900000   \n",
       "25%                     25.000000        5.800000    2.600000   \n",
       "50%                     42.000000        6.600000    3.100000   \n",
       "75%                     87.000000        7.200000    3.800000   \n",
       "max                   4929.000000        9.600000    5.500000   \n",
       "\n",
       "       Albumin_and_Globulin_Ratio     Dataset  \n",
       "count                  583.000000  583.000000  \n",
       "mean                     0.940566    1.286449  \n",
       "std                      0.327962    0.452490  \n",
       "min                      0.000000    1.000000  \n",
       "25%                      0.700000    1.000000  \n",
       "50%                      0.920000    1.000000  \n",
       "75%                      1.100000    2.000000  \n",
       "max                      2.800000    2.000000  "
      ]
     },
     "execution_count": 119,
     "metadata": {},
     "output_type": "execute_result"
    }
   ],
   "source": [
    "data.describe()"
   ]
  },
  {
   "cell_type": "code",
   "execution_count": 120,
   "metadata": {},
   "outputs": [
    {
     "data": {
      "text/plain": [
       "Age                             int64\n",
       "Gender                          int64\n",
       "Total_Bilirubin               float64\n",
       "Direct_Bilirubin              float64\n",
       "Alkaline_Phosphotase            int64\n",
       "Alamine_Aminotransferase        int64\n",
       "Aspartate_Aminotransferase      int64\n",
       "Total_Protiens                float64\n",
       "Albumin                       float64\n",
       "Albumin_and_Globulin_Ratio    float64\n",
       "Dataset                         int64\n",
       "dtype: object"
      ]
     },
     "execution_count": 120,
     "metadata": {},
     "output_type": "execute_result"
    }
   ],
   "source": [
    "data.dtypes"
   ]
  },
  {
   "cell_type": "code",
   "execution_count": 121,
   "metadata": {},
   "outputs": [],
   "source": [
    "# Многомерная логистическая регрессия\n",
    "X = data.drop('Dataset', axis=1)\n",
    "y = data['Dataset']"
   ]
  },
  {
   "cell_type": "code",
   "execution_count": 122,
   "metadata": {
    "collapsed": true
   },
   "outputs": [],
   "source": [
    "from sklearn.linear_model import LogisticRegression\n",
    "X_train, X_test, y_train, y_test = train_test_split(X, y, test_size=0.2, random_state=25)"
   ]
  },
  {
   "cell_type": "code",
   "execution_count": 123,
   "metadata": {},
   "outputs": [],
   "source": [
    "model = LogisticRegression(solver='newton-cg').fit(X_train, y_train)"
   ]
  },
  {
   "cell_type": "code",
   "execution_count": 124,
   "metadata": {},
   "outputs": [
    {
     "name": "stdout",
     "output_type": "stream",
     "text": [
      "             precision    recall  f1-score   support\n",
      "\n",
      "          1       0.77      0.97      0.86        88\n",
      "          2       0.57      0.14      0.22        29\n",
      "\n",
      "avg / total       0.72      0.76      0.70       117\n",
      "\n"
     ]
    }
   ],
   "source": [
    "from sklearn.metrics import classification_report\n",
    "model_pred = model.predict(X_test)\n",
    "print(classification_report(y_test, model_pred))"
   ]
  },
  {
   "cell_type": "code",
   "execution_count": 126,
   "metadata": {},
   "outputs": [
    {
     "data": {
      "text/html": [
       "<style  type=\"text/css\" >\n",
       "    #T_2f1cf568_317a_11ea_85b2_a4d18ce38aa2row0_col0 {\n",
       "            background-color:  #b40426;\n",
       "        }    #T_2f1cf568_317a_11ea_85b2_a4d18ce38aa2row0_col1 {\n",
       "            background-color:  #6687ed;\n",
       "        }    #T_2f1cf568_317a_11ea_85b2_a4d18ce38aa2row0_col2 {\n",
       "            background-color:  #779af7;\n",
       "        }    #T_2f1cf568_317a_11ea_85b2_a4d18ce38aa2row0_col3 {\n",
       "            background-color:  #7ea1fa;\n",
       "        }    #T_2f1cf568_317a_11ea_85b2_a4d18ce38aa2row0_col4 {\n",
       "            background-color:  #8badfd;\n",
       "        }    #T_2f1cf568_317a_11ea_85b2_a4d18ce38aa2row0_col5 {\n",
       "            background-color:  #4c66d6;\n",
       "        }    #T_2f1cf568_317a_11ea_85b2_a4d18ce38aa2row0_col6 {\n",
       "            background-color:  #5d7ce6;\n",
       "        }    #T_2f1cf568_317a_11ea_85b2_a4d18ce38aa2row0_col7 {\n",
       "            background-color:  #3b4cc0;\n",
       "        }    #T_2f1cf568_317a_11ea_85b2_a4d18ce38aa2row0_col8 {\n",
       "            background-color:  #3b4cc0;\n",
       "        }    #T_2f1cf568_317a_11ea_85b2_a4d18ce38aa2row0_col9 {\n",
       "            background-color:  #3f53c6;\n",
       "        }    #T_2f1cf568_317a_11ea_85b2_a4d18ce38aa2row0_col10 {\n",
       "            background-color:  #5572df;\n",
       "        }    #T_2f1cf568_317a_11ea_85b2_a4d18ce38aa2row1_col0 {\n",
       "            background-color:  #90b2fe;\n",
       "        }    #T_2f1cf568_317a_11ea_85b2_a4d18ce38aa2row1_col1 {\n",
       "            background-color:  #b40426;\n",
       "        }    #T_2f1cf568_317a_11ea_85b2_a4d18ce38aa2row1_col2 {\n",
       "            background-color:  #8fb1fe;\n",
       "        }    #T_2f1cf568_317a_11ea_85b2_a4d18ce38aa2row1_col3 {\n",
       "            background-color:  #97b8ff;\n",
       "        }    #T_2f1cf568_317a_11ea_85b2_a4d18ce38aa2row1_col4 {\n",
       "            background-color:  #6b8df0;\n",
       "        }    #T_2f1cf568_317a_11ea_85b2_a4d18ce38aa2row1_col5 {\n",
       "            background-color:  #7da0f9;\n",
       "        }    #T_2f1cf568_317a_11ea_85b2_a4d18ce38aa2row1_col6 {\n",
       "            background-color:  #7b9ff9;\n",
       "        }    #T_2f1cf568_317a_11ea_85b2_a4d18ce38aa2row1_col7 {\n",
       "            background-color:  #5470de;\n",
       "        }    #T_2f1cf568_317a_11ea_85b2_a4d18ce38aa2row1_col8 {\n",
       "            background-color:  #6788ee;\n",
       "        }    #T_2f1cf568_317a_11ea_85b2_a4d18ce38aa2row1_col9 {\n",
       "            background-color:  #779af7;\n",
       "        }    #T_2f1cf568_317a_11ea_85b2_a4d18ce38aa2row1_col10 {\n",
       "            background-color:  #6485ec;\n",
       "        }    #T_2f1cf568_317a_11ea_85b2_a4d18ce38aa2row2_col0 {\n",
       "            background-color:  #82a6fb;\n",
       "        }    #T_2f1cf568_317a_11ea_85b2_a4d18ce38aa2row2_col1 {\n",
       "            background-color:  #6f92f3;\n",
       "        }    #T_2f1cf568_317a_11ea_85b2_a4d18ce38aa2row2_col2 {\n",
       "            background-color:  #b40426;\n",
       "        }    #T_2f1cf568_317a_11ea_85b2_a4d18ce38aa2row2_col3 {\n",
       "            background-color:  #d75445;\n",
       "        }    #T_2f1cf568_317a_11ea_85b2_a4d18ce38aa2row2_col4 {\n",
       "            background-color:  #b1cbfc;\n",
       "        }    #T_2f1cf568_317a_11ea_85b2_a4d18ce38aa2row2_col5 {\n",
       "            background-color:  #a5c3fe;\n",
       "        }    #T_2f1cf568_317a_11ea_85b2_a4d18ce38aa2row2_col6 {\n",
       "            background-color:  #abc8fd;\n",
       "        }    #T_2f1cf568_317a_11ea_85b2_a4d18ce38aa2row2_col7 {\n",
       "            background-color:  #6a8bef;\n",
       "        }    #T_2f1cf568_317a_11ea_85b2_a4d18ce38aa2row2_col8 {\n",
       "            background-color:  #465ecf;\n",
       "        }    #T_2f1cf568_317a_11ea_85b2_a4d18ce38aa2row2_col9 {\n",
       "            background-color:  #4257c9;\n",
       "        }    #T_2f1cf568_317a_11ea_85b2_a4d18ce38aa2row2_col10 {\n",
       "            background-color:  #4257c9;\n",
       "        }    #T_2f1cf568_317a_11ea_85b2_a4d18ce38aa2row3_col0 {\n",
       "            background-color:  #82a6fb;\n",
       "        }    #T_2f1cf568_317a_11ea_85b2_a4d18ce38aa2row3_col1 {\n",
       "            background-color:  #7295f4;\n",
       "        }    #T_2f1cf568_317a_11ea_85b2_a4d18ce38aa2row3_col2 {\n",
       "            background-color:  #d85646;\n",
       "        }    #T_2f1cf568_317a_11ea_85b2_a4d18ce38aa2row3_col3 {\n",
       "            background-color:  #b40426;\n",
       "        }    #T_2f1cf568_317a_11ea_85b2_a4d18ce38aa2row3_col4 {\n",
       "            background-color:  #b6cefa;\n",
       "        }    #T_2f1cf568_317a_11ea_85b2_a4d18ce38aa2row3_col5 {\n",
       "            background-color:  #abc8fd;\n",
       "        }    #T_2f1cf568_317a_11ea_85b2_a4d18ce38aa2row3_col6 {\n",
       "            background-color:  #b2ccfb;\n",
       "        }    #T_2f1cf568_317a_11ea_85b2_a4d18ce38aa2row3_col7 {\n",
       "            background-color:  #6c8ff1;\n",
       "        }    #T_2f1cf568_317a_11ea_85b2_a4d18ce38aa2row3_col8 {\n",
       "            background-color:  #445acc;\n",
       "        }    #T_2f1cf568_317a_11ea_85b2_a4d18ce38aa2row3_col9 {\n",
       "            background-color:  #4257c9;\n",
       "        }    #T_2f1cf568_317a_11ea_85b2_a4d18ce38aa2row3_col10 {\n",
       "            background-color:  #3b4cc0;\n",
       "        }    #T_2f1cf568_317a_11ea_85b2_a4d18ce38aa2row4_col0 {\n",
       "            background-color:  #96b7ff;\n",
       "        }    #T_2f1cf568_317a_11ea_85b2_a4d18ce38aa2row4_col1 {\n",
       "            background-color:  #4b64d5;\n",
       "        }    #T_2f1cf568_317a_11ea_85b2_a4d18ce38aa2row4_col2 {\n",
       "            background-color:  #b1cbfc;\n",
       "        }    #T_2f1cf568_317a_11ea_85b2_a4d18ce38aa2row4_col3 {\n",
       "            background-color:  #bbd1f8;\n",
       "        }    #T_2f1cf568_317a_11ea_85b2_a4d18ce38aa2row4_col4 {\n",
       "            background-color:  #b40426;\n",
       "        }    #T_2f1cf568_317a_11ea_85b2_a4d18ce38aa2row4_col5 {\n",
       "            background-color:  #8db0fe;\n",
       "        }    #T_2f1cf568_317a_11ea_85b2_a4d18ce38aa2row4_col6 {\n",
       "            background-color:  #97b8ff;\n",
       "        }    #T_2f1cf568_317a_11ea_85b2_a4d18ce38aa2row4_col7 {\n",
       "            background-color:  #6485ec;\n",
       "        }    #T_2f1cf568_317a_11ea_85b2_a4d18ce38aa2row4_col8 {\n",
       "            background-color:  #536edd;\n",
       "        }    #T_2f1cf568_317a_11ea_85b2_a4d18ce38aa2row4_col9 {\n",
       "            background-color:  #3b4cc0;\n",
       "        }    #T_2f1cf568_317a_11ea_85b2_a4d18ce38aa2row4_col10 {\n",
       "            background-color:  #4b64d5;\n",
       "        }    #T_2f1cf568_317a_11ea_85b2_a4d18ce38aa2row5_col0 {\n",
       "            background-color:  #6788ee;\n",
       "        }    #T_2f1cf568_317a_11ea_85b2_a4d18ce38aa2row5_col1 {\n",
       "            background-color:  #6b8df0;\n",
       "        }    #T_2f1cf568_317a_11ea_85b2_a4d18ce38aa2row5_col2 {\n",
       "            background-color:  #b1cbfc;\n",
       "        }    #T_2f1cf568_317a_11ea_85b2_a4d18ce38aa2row5_col3 {\n",
       "            background-color:  #bbd1f8;\n",
       "        }    #T_2f1cf568_317a_11ea_85b2_a4d18ce38aa2row5_col4 {\n",
       "            background-color:  #9abbff;\n",
       "        }    #T_2f1cf568_317a_11ea_85b2_a4d18ce38aa2row5_col5 {\n",
       "            background-color:  #b40426;\n",
       "        }    #T_2f1cf568_317a_11ea_85b2_a4d18ce38aa2row5_col6 {\n",
       "            background-color:  #ea7b60;\n",
       "        }    #T_2f1cf568_317a_11ea_85b2_a4d18ce38aa2row5_col7 {\n",
       "            background-color:  #6282ea;\n",
       "        }    #T_2f1cf568_317a_11ea_85b2_a4d18ce38aa2row5_col8 {\n",
       "            background-color:  #779af7;\n",
       "        }    #T_2f1cf568_317a_11ea_85b2_a4d18ce38aa2row5_col9 {\n",
       "            background-color:  #7597f6;\n",
       "        }    #T_2f1cf568_317a_11ea_85b2_a4d18ce38aa2row5_col10 {\n",
       "            background-color:  #506bda;\n",
       "        }    #T_2f1cf568_317a_11ea_85b2_a4d18ce38aa2row6_col0 {\n",
       "            background-color:  #7a9df8;\n",
       "        }    #T_2f1cf568_317a_11ea_85b2_a4d18ce38aa2row6_col1 {\n",
       "            background-color:  #6b8df0;\n",
       "        }    #T_2f1cf568_317a_11ea_85b2_a4d18ce38aa2row6_col2 {\n",
       "            background-color:  #b9d0f9;\n",
       "        }    #T_2f1cf568_317a_11ea_85b2_a4d18ce38aa2row6_col3 {\n",
       "            background-color:  #c3d5f4;\n",
       "        }    #T_2f1cf568_317a_11ea_85b2_a4d18ce38aa2row6_col4 {\n",
       "            background-color:  #a5c3fe;\n",
       "        }    #T_2f1cf568_317a_11ea_85b2_a4d18ce38aa2row6_col5 {\n",
       "            background-color:  #ea7b60;\n",
       "        }    #T_2f1cf568_317a_11ea_85b2_a4d18ce38aa2row6_col6 {\n",
       "            background-color:  #b40426;\n",
       "        }    #T_2f1cf568_317a_11ea_85b2_a4d18ce38aa2row6_col7 {\n",
       "            background-color:  #6485ec;\n",
       "        }    #T_2f1cf568_317a_11ea_85b2_a4d18ce38aa2row6_col8 {\n",
       "            background-color:  #6788ee;\n",
       "        }    #T_2f1cf568_317a_11ea_85b2_a4d18ce38aa2row6_col9 {\n",
       "            background-color:  #6384eb;\n",
       "        }    #T_2f1cf568_317a_11ea_85b2_a4d18ce38aa2row6_col10 {\n",
       "            background-color:  #536edd;\n",
       "        }    #T_2f1cf568_317a_11ea_85b2_a4d18ce38aa2row7_col0 {\n",
       "            background-color:  #4e68d8;\n",
       "        }    #T_2f1cf568_317a_11ea_85b2_a4d18ce38aa2row7_col1 {\n",
       "            background-color:  #3b4cc0;\n",
       "        }    #T_2f1cf568_317a_11ea_85b2_a4d18ce38aa2row7_col2 {\n",
       "            background-color:  #7295f4;\n",
       "        }    #T_2f1cf568_317a_11ea_85b2_a4d18ce38aa2row7_col3 {\n",
       "            background-color:  #7b9ff9;\n",
       "        }    #T_2f1cf568_317a_11ea_85b2_a4d18ce38aa2row7_col4 {\n",
       "            background-color:  #6b8df0;\n",
       "        }    #T_2f1cf568_317a_11ea_85b2_a4d18ce38aa2row7_col5 {\n",
       "            background-color:  #5a78e4;\n",
       "        }    #T_2f1cf568_317a_11ea_85b2_a4d18ce38aa2row7_col6 {\n",
       "            background-color:  #5a78e4;\n",
       "        }    #T_2f1cf568_317a_11ea_85b2_a4d18ce38aa2row7_col7 {\n",
       "            background-color:  #b40426;\n",
       "        }    #T_2f1cf568_317a_11ea_85b2_a4d18ce38aa2row7_col8 {\n",
       "            background-color:  #e9785d;\n",
       "        }    #T_2f1cf568_317a_11ea_85b2_a4d18ce38aa2row7_col9 {\n",
       "            background-color:  #b3cdfb;\n",
       "        }    #T_2f1cf568_317a_11ea_85b2_a4d18ce38aa2row7_col10 {\n",
       "            background-color:  #86a9fc;\n",
       "        }    #T_2f1cf568_317a_11ea_85b2_a4d18ce38aa2row8_col0 {\n",
       "            background-color:  #3b4cc0;\n",
       "        }    #T_2f1cf568_317a_11ea_85b2_a4d18ce38aa2row8_col1 {\n",
       "            background-color:  #3b4cc0;\n",
       "        }    #T_2f1cf568_317a_11ea_85b2_a4d18ce38aa2row8_col2 {\n",
       "            background-color:  #3b4cc0;\n",
       "        }    #T_2f1cf568_317a_11ea_85b2_a4d18ce38aa2row8_col3 {\n",
       "            background-color:  #3f53c6;\n",
       "        }    #T_2f1cf568_317a_11ea_85b2_a4d18ce38aa2row8_col4 {\n",
       "            background-color:  #465ecf;\n",
       "        }    #T_2f1cf568_317a_11ea_85b2_a4d18ce38aa2row8_col5 {\n",
       "            background-color:  #5d7ce6;\n",
       "        }    #T_2f1cf568_317a_11ea_85b2_a4d18ce38aa2row8_col6 {\n",
       "            background-color:  #4a63d3;\n",
       "        }    #T_2f1cf568_317a_11ea_85b2_a4d18ce38aa2row8_col7 {\n",
       "            background-color:  #eb7d62;\n",
       "        }    #T_2f1cf568_317a_11ea_85b2_a4d18ce38aa2row8_col8 {\n",
       "            background-color:  #b40426;\n",
       "        }    #T_2f1cf568_317a_11ea_85b2_a4d18ce38aa2row8_col9 {\n",
       "            background-color:  #f7a889;\n",
       "        }    #T_2f1cf568_317a_11ea_85b2_a4d18ce38aa2row8_col10 {\n",
       "            background-color:  #a7c5fe;\n",
       "        }    #T_2f1cf568_317a_11ea_85b2_a4d18ce38aa2row9_col0 {\n",
       "            background-color:  #4b64d5;\n",
       "        }    #T_2f1cf568_317a_11ea_85b2_a4d18ce38aa2row9_col1 {\n",
       "            background-color:  #5673e0;\n",
       "        }    #T_2f1cf568_317a_11ea_85b2_a4d18ce38aa2row9_col2 {\n",
       "            background-color:  #4257c9;\n",
       "        }    #T_2f1cf568_317a_11ea_85b2_a4d18ce38aa2row9_col3 {\n",
       "            background-color:  #4961d2;\n",
       "        }    #T_2f1cf568_317a_11ea_85b2_a4d18ce38aa2row9_col4 {\n",
       "            background-color:  #3b4cc0;\n",
       "        }    #T_2f1cf568_317a_11ea_85b2_a4d18ce38aa2row9_col5 {\n",
       "            background-color:  #6687ed;\n",
       "        }    #T_2f1cf568_317a_11ea_85b2_a4d18ce38aa2row9_col6 {\n",
       "            background-color:  #536edd;\n",
       "        }    #T_2f1cf568_317a_11ea_85b2_a4d18ce38aa2row9_col7 {\n",
       "            background-color:  #aec9fc;\n",
       "        }    #T_2f1cf568_317a_11ea_85b2_a4d18ce38aa2row9_col8 {\n",
       "            background-color:  #f6a385;\n",
       "        }    #T_2f1cf568_317a_11ea_85b2_a4d18ce38aa2row9_col9 {\n",
       "            background-color:  #b40426;\n",
       "        }    #T_2f1cf568_317a_11ea_85b2_a4d18ce38aa2row9_col10 {\n",
       "            background-color:  #a5c3fe;\n",
       "        }    #T_2f1cf568_317a_11ea_85b2_a4d18ce38aa2row10_col0 {\n",
       "            background-color:  #5a78e4;\n",
       "        }    #T_2f1cf568_317a_11ea_85b2_a4d18ce38aa2row10_col1 {\n",
       "            background-color:  #3d50c3;\n",
       "        }    #T_2f1cf568_317a_11ea_85b2_a4d18ce38aa2row10_col2 {\n",
       "            background-color:  #3b4cc0;\n",
       "        }    #T_2f1cf568_317a_11ea_85b2_a4d18ce38aa2row10_col3 {\n",
       "            background-color:  #3b4cc0;\n",
       "        }    #T_2f1cf568_317a_11ea_85b2_a4d18ce38aa2row10_col4 {\n",
       "            background-color:  #445acc;\n",
       "        }    #T_2f1cf568_317a_11ea_85b2_a4d18ce38aa2row10_col5 {\n",
       "            background-color:  #3b4cc0;\n",
       "        }    #T_2f1cf568_317a_11ea_85b2_a4d18ce38aa2row10_col6 {\n",
       "            background-color:  #3b4cc0;\n",
       "        }    #T_2f1cf568_317a_11ea_85b2_a4d18ce38aa2row10_col7 {\n",
       "            background-color:  #799cf8;\n",
       "        }    #T_2f1cf568_317a_11ea_85b2_a4d18ce38aa2row10_col8 {\n",
       "            background-color:  #abc8fd;\n",
       "        }    #T_2f1cf568_317a_11ea_85b2_a4d18ce38aa2row10_col9 {\n",
       "            background-color:  #9fbfff;\n",
       "        }    #T_2f1cf568_317a_11ea_85b2_a4d18ce38aa2row10_col10 {\n",
       "            background-color:  #b40426;\n",
       "        }</style>  \n",
       "<table id=\"T_2f1cf568_317a_11ea_85b2_a4d18ce38aa2\" > \n",
       "<thead>    <tr> \n",
       "        <th class=\"blank level0\" ></th> \n",
       "        <th class=\"col_heading level0 col0\" >Age</th> \n",
       "        <th class=\"col_heading level0 col1\" >Gender</th> \n",
       "        <th class=\"col_heading level0 col2\" >Total_Bilirubin</th> \n",
       "        <th class=\"col_heading level0 col3\" >Direct_Bilirubin</th> \n",
       "        <th class=\"col_heading level0 col4\" >Alkaline_Phosphotase</th> \n",
       "        <th class=\"col_heading level0 col5\" >Alamine_Aminotransferase</th> \n",
       "        <th class=\"col_heading level0 col6\" >Aspartate_Aminotransferase</th> \n",
       "        <th class=\"col_heading level0 col7\" >Total_Protiens</th> \n",
       "        <th class=\"col_heading level0 col8\" >Albumin</th> \n",
       "        <th class=\"col_heading level0 col9\" >Albumin_and_Globulin_Ratio</th> \n",
       "        <th class=\"col_heading level0 col10\" >Dataset</th> \n",
       "    </tr></thead> \n",
       "<tbody>    <tr> \n",
       "        <th id=\"T_2f1cf568_317a_11ea_85b2_a4d18ce38aa2level0_row0\" class=\"row_heading level0 row0\" >Age</th> \n",
       "        <td id=\"T_2f1cf568_317a_11ea_85b2_a4d18ce38aa2row0_col0\" class=\"data row0 col0\" >1</td> \n",
       "        <td id=\"T_2f1cf568_317a_11ea_85b2_a4d18ce38aa2row0_col1\" class=\"data row0 col1\" >0.06</td> \n",
       "        <td id=\"T_2f1cf568_317a_11ea_85b2_a4d18ce38aa2row0_col2\" class=\"data row0 col2\" >0.01</td> \n",
       "        <td id=\"T_2f1cf568_317a_11ea_85b2_a4d18ce38aa2row0_col3\" class=\"data row0 col3\" >0.01</td> \n",
       "        <td id=\"T_2f1cf568_317a_11ea_85b2_a4d18ce38aa2row0_col4\" class=\"data row0 col4\" >0.08</td> \n",
       "        <td id=\"T_2f1cf568_317a_11ea_85b2_a4d18ce38aa2row0_col5\" class=\"data row0 col5\" >-0.09</td> \n",
       "        <td id=\"T_2f1cf568_317a_11ea_85b2_a4d18ce38aa2row0_col6\" class=\"data row0 col6\" >-0.02</td> \n",
       "        <td id=\"T_2f1cf568_317a_11ea_85b2_a4d18ce38aa2row0_col7\" class=\"data row0 col7\" >-0.19</td> \n",
       "        <td id=\"T_2f1cf568_317a_11ea_85b2_a4d18ce38aa2row0_col8\" class=\"data row0 col8\" >-0.27</td> \n",
       "        <td id=\"T_2f1cf568_317a_11ea_85b2_a4d18ce38aa2row0_col9\" class=\"data row0 col9\" >-0.2</td> \n",
       "        <td id=\"T_2f1cf568_317a_11ea_85b2_a4d18ce38aa2row0_col10\" class=\"data row0 col10\" >-0.14</td> \n",
       "    </tr>    <tr> \n",
       "        <th id=\"T_2f1cf568_317a_11ea_85b2_a4d18ce38aa2level0_row1\" class=\"row_heading level0 row1\" >Gender</th> \n",
       "        <td id=\"T_2f1cf568_317a_11ea_85b2_a4d18ce38aa2row1_col0\" class=\"data row1 col0\" >0.06</td> \n",
       "        <td id=\"T_2f1cf568_317a_11ea_85b2_a4d18ce38aa2row1_col1\" class=\"data row1 col1\" >1</td> \n",
       "        <td id=\"T_2f1cf568_317a_11ea_85b2_a4d18ce38aa2row1_col2\" class=\"data row1 col2\" >0.09</td> \n",
       "        <td id=\"T_2f1cf568_317a_11ea_85b2_a4d18ce38aa2row1_col3\" class=\"data row1 col3\" >0.1</td> \n",
       "        <td id=\"T_2f1cf568_317a_11ea_85b2_a4d18ce38aa2row1_col4\" class=\"data row1 col4\" >-0.03</td> \n",
       "        <td id=\"T_2f1cf568_317a_11ea_85b2_a4d18ce38aa2row1_col5\" class=\"data row1 col5\" >0.08</td> \n",
       "        <td id=\"T_2f1cf568_317a_11ea_85b2_a4d18ce38aa2row1_col6\" class=\"data row1 col6\" >0.08</td> \n",
       "        <td id=\"T_2f1cf568_317a_11ea_85b2_a4d18ce38aa2row1_col7\" class=\"data row1 col7\" >-0.09</td> \n",
       "        <td id=\"T_2f1cf568_317a_11ea_85b2_a4d18ce38aa2row1_col8\" class=\"data row1 col8\" >-0.09</td> \n",
       "        <td id=\"T_2f1cf568_317a_11ea_85b2_a4d18ce38aa2row1_col9\" class=\"data row1 col9\" >0.01</td> \n",
       "        <td id=\"T_2f1cf568_317a_11ea_85b2_a4d18ce38aa2row1_col10\" class=\"data row1 col10\" >-0.08</td> \n",
       "    </tr>    <tr> \n",
       "        <th id=\"T_2f1cf568_317a_11ea_85b2_a4d18ce38aa2level0_row2\" class=\"row_heading level0 row2\" >Total_Bilirubin</th> \n",
       "        <td id=\"T_2f1cf568_317a_11ea_85b2_a4d18ce38aa2row2_col0\" class=\"data row2 col0\" >0.01</td> \n",
       "        <td id=\"T_2f1cf568_317a_11ea_85b2_a4d18ce38aa2row2_col1\" class=\"data row2 col1\" >0.09</td> \n",
       "        <td id=\"T_2f1cf568_317a_11ea_85b2_a4d18ce38aa2row2_col2\" class=\"data row2 col2\" >1</td> \n",
       "        <td id=\"T_2f1cf568_317a_11ea_85b2_a4d18ce38aa2row2_col3\" class=\"data row2 col3\" >0.87</td> \n",
       "        <td id=\"T_2f1cf568_317a_11ea_85b2_a4d18ce38aa2row2_col4\" class=\"data row2 col4\" >0.21</td> \n",
       "        <td id=\"T_2f1cf568_317a_11ea_85b2_a4d18ce38aa2row2_col5\" class=\"data row2 col5\" >0.21</td> \n",
       "        <td id=\"T_2f1cf568_317a_11ea_85b2_a4d18ce38aa2row2_col6\" class=\"data row2 col6\" >0.24</td> \n",
       "        <td id=\"T_2f1cf568_317a_11ea_85b2_a4d18ce38aa2row2_col7\" class=\"data row2 col7\" >-0.01</td> \n",
       "        <td id=\"T_2f1cf568_317a_11ea_85b2_a4d18ce38aa2row2_col8\" class=\"data row2 col8\" >-0.22</td> \n",
       "        <td id=\"T_2f1cf568_317a_11ea_85b2_a4d18ce38aa2row2_col9\" class=\"data row2 col9\" >-0.19</td> \n",
       "        <td id=\"T_2f1cf568_317a_11ea_85b2_a4d18ce38aa2row2_col10\" class=\"data row2 col10\" >-0.22</td> \n",
       "    </tr>    <tr> \n",
       "        <th id=\"T_2f1cf568_317a_11ea_85b2_a4d18ce38aa2level0_row3\" class=\"row_heading level0 row3\" >Direct_Bilirubin</th> \n",
       "        <td id=\"T_2f1cf568_317a_11ea_85b2_a4d18ce38aa2row3_col0\" class=\"data row3 col0\" >0.01</td> \n",
       "        <td id=\"T_2f1cf568_317a_11ea_85b2_a4d18ce38aa2row3_col1\" class=\"data row3 col1\" >0.1</td> \n",
       "        <td id=\"T_2f1cf568_317a_11ea_85b2_a4d18ce38aa2row3_col2\" class=\"data row3 col2\" >0.87</td> \n",
       "        <td id=\"T_2f1cf568_317a_11ea_85b2_a4d18ce38aa2row3_col3\" class=\"data row3 col3\" >1</td> \n",
       "        <td id=\"T_2f1cf568_317a_11ea_85b2_a4d18ce38aa2row3_col4\" class=\"data row3 col4\" >0.23</td> \n",
       "        <td id=\"T_2f1cf568_317a_11ea_85b2_a4d18ce38aa2row3_col5\" class=\"data row3 col5\" >0.23</td> \n",
       "        <td id=\"T_2f1cf568_317a_11ea_85b2_a4d18ce38aa2row3_col6\" class=\"data row3 col6\" >0.26</td> \n",
       "        <td id=\"T_2f1cf568_317a_11ea_85b2_a4d18ce38aa2row3_col7\" class=\"data row3 col7\" >-0</td> \n",
       "        <td id=\"T_2f1cf568_317a_11ea_85b2_a4d18ce38aa2row3_col8\" class=\"data row3 col8\" >-0.23</td> \n",
       "        <td id=\"T_2f1cf568_317a_11ea_85b2_a4d18ce38aa2row3_col9\" class=\"data row3 col9\" >-0.19</td> \n",
       "        <td id=\"T_2f1cf568_317a_11ea_85b2_a4d18ce38aa2row3_col10\" class=\"data row3 col10\" >-0.25</td> \n",
       "    </tr>    <tr> \n",
       "        <th id=\"T_2f1cf568_317a_11ea_85b2_a4d18ce38aa2level0_row4\" class=\"row_heading level0 row4\" >Alkaline_Phosphotase</th> \n",
       "        <td id=\"T_2f1cf568_317a_11ea_85b2_a4d18ce38aa2row4_col0\" class=\"data row4 col0\" >0.08</td> \n",
       "        <td id=\"T_2f1cf568_317a_11ea_85b2_a4d18ce38aa2row4_col1\" class=\"data row4 col1\" >-0.03</td> \n",
       "        <td id=\"T_2f1cf568_317a_11ea_85b2_a4d18ce38aa2row4_col2\" class=\"data row4 col2\" >0.21</td> \n",
       "        <td id=\"T_2f1cf568_317a_11ea_85b2_a4d18ce38aa2row4_col3\" class=\"data row4 col3\" >0.23</td> \n",
       "        <td id=\"T_2f1cf568_317a_11ea_85b2_a4d18ce38aa2row4_col4\" class=\"data row4 col4\" >1</td> \n",
       "        <td id=\"T_2f1cf568_317a_11ea_85b2_a4d18ce38aa2row4_col5\" class=\"data row4 col5\" >0.13</td> \n",
       "        <td id=\"T_2f1cf568_317a_11ea_85b2_a4d18ce38aa2row4_col6\" class=\"data row4 col6\" >0.17</td> \n",
       "        <td id=\"T_2f1cf568_317a_11ea_85b2_a4d18ce38aa2row4_col7\" class=\"data row4 col7\" >-0.03</td> \n",
       "        <td id=\"T_2f1cf568_317a_11ea_85b2_a4d18ce38aa2row4_col8\" class=\"data row4 col8\" >-0.17</td> \n",
       "        <td id=\"T_2f1cf568_317a_11ea_85b2_a4d18ce38aa2row4_col9\" class=\"data row4 col9\" >-0.22</td> \n",
       "        <td id=\"T_2f1cf568_317a_11ea_85b2_a4d18ce38aa2row4_col10\" class=\"data row4 col10\" >-0.18</td> \n",
       "    </tr>    <tr> \n",
       "        <th id=\"T_2f1cf568_317a_11ea_85b2_a4d18ce38aa2level0_row5\" class=\"row_heading level0 row5\" >Alamine_Aminotransferase</th> \n",
       "        <td id=\"T_2f1cf568_317a_11ea_85b2_a4d18ce38aa2row5_col0\" class=\"data row5 col0\" >-0.09</td> \n",
       "        <td id=\"T_2f1cf568_317a_11ea_85b2_a4d18ce38aa2row5_col1\" class=\"data row5 col1\" >0.08</td> \n",
       "        <td id=\"T_2f1cf568_317a_11ea_85b2_a4d18ce38aa2row5_col2\" class=\"data row5 col2\" >0.21</td> \n",
       "        <td id=\"T_2f1cf568_317a_11ea_85b2_a4d18ce38aa2row5_col3\" class=\"data row5 col3\" >0.23</td> \n",
       "        <td id=\"T_2f1cf568_317a_11ea_85b2_a4d18ce38aa2row5_col4\" class=\"data row5 col4\" >0.13</td> \n",
       "        <td id=\"T_2f1cf568_317a_11ea_85b2_a4d18ce38aa2row5_col5\" class=\"data row5 col5\" >1</td> \n",
       "        <td id=\"T_2f1cf568_317a_11ea_85b2_a4d18ce38aa2row5_col6\" class=\"data row5 col6\" >0.79</td> \n",
       "        <td id=\"T_2f1cf568_317a_11ea_85b2_a4d18ce38aa2row5_col7\" class=\"data row5 col7\" >-0.04</td> \n",
       "        <td id=\"T_2f1cf568_317a_11ea_85b2_a4d18ce38aa2row5_col8\" class=\"data row5 col8\" >-0.03</td> \n",
       "        <td id=\"T_2f1cf568_317a_11ea_85b2_a4d18ce38aa2row5_col9\" class=\"data row5 col9\" >0</td> \n",
       "        <td id=\"T_2f1cf568_317a_11ea_85b2_a4d18ce38aa2row5_col10\" class=\"data row5 col10\" >-0.16</td> \n",
       "    </tr>    <tr> \n",
       "        <th id=\"T_2f1cf568_317a_11ea_85b2_a4d18ce38aa2level0_row6\" class=\"row_heading level0 row6\" >Aspartate_Aminotransferase</th> \n",
       "        <td id=\"T_2f1cf568_317a_11ea_85b2_a4d18ce38aa2row6_col0\" class=\"data row6 col0\" >-0.02</td> \n",
       "        <td id=\"T_2f1cf568_317a_11ea_85b2_a4d18ce38aa2row6_col1\" class=\"data row6 col1\" >0.08</td> \n",
       "        <td id=\"T_2f1cf568_317a_11ea_85b2_a4d18ce38aa2row6_col2\" class=\"data row6 col2\" >0.24</td> \n",
       "        <td id=\"T_2f1cf568_317a_11ea_85b2_a4d18ce38aa2row6_col3\" class=\"data row6 col3\" >0.26</td> \n",
       "        <td id=\"T_2f1cf568_317a_11ea_85b2_a4d18ce38aa2row6_col4\" class=\"data row6 col4\" >0.17</td> \n",
       "        <td id=\"T_2f1cf568_317a_11ea_85b2_a4d18ce38aa2row6_col5\" class=\"data row6 col5\" >0.79</td> \n",
       "        <td id=\"T_2f1cf568_317a_11ea_85b2_a4d18ce38aa2row6_col6\" class=\"data row6 col6\" >1</td> \n",
       "        <td id=\"T_2f1cf568_317a_11ea_85b2_a4d18ce38aa2row6_col7\" class=\"data row6 col7\" >-0.03</td> \n",
       "        <td id=\"T_2f1cf568_317a_11ea_85b2_a4d18ce38aa2row6_col8\" class=\"data row6 col8\" >-0.09</td> \n",
       "        <td id=\"T_2f1cf568_317a_11ea_85b2_a4d18ce38aa2row6_col9\" class=\"data row6 col9\" >-0.06</td> \n",
       "        <td id=\"T_2f1cf568_317a_11ea_85b2_a4d18ce38aa2row6_col10\" class=\"data row6 col10\" >-0.15</td> \n",
       "    </tr>    <tr> \n",
       "        <th id=\"T_2f1cf568_317a_11ea_85b2_a4d18ce38aa2level0_row7\" class=\"row_heading level0 row7\" >Total_Protiens</th> \n",
       "        <td id=\"T_2f1cf568_317a_11ea_85b2_a4d18ce38aa2row7_col0\" class=\"data row7 col0\" >-0.19</td> \n",
       "        <td id=\"T_2f1cf568_317a_11ea_85b2_a4d18ce38aa2row7_col1\" class=\"data row7 col1\" >-0.09</td> \n",
       "        <td id=\"T_2f1cf568_317a_11ea_85b2_a4d18ce38aa2row7_col2\" class=\"data row7 col2\" >-0.01</td> \n",
       "        <td id=\"T_2f1cf568_317a_11ea_85b2_a4d18ce38aa2row7_col3\" class=\"data row7 col3\" >-0</td> \n",
       "        <td id=\"T_2f1cf568_317a_11ea_85b2_a4d18ce38aa2row7_col4\" class=\"data row7 col4\" >-0.03</td> \n",
       "        <td id=\"T_2f1cf568_317a_11ea_85b2_a4d18ce38aa2row7_col5\" class=\"data row7 col5\" >-0.04</td> \n",
       "        <td id=\"T_2f1cf568_317a_11ea_85b2_a4d18ce38aa2row7_col6\" class=\"data row7 col6\" >-0.03</td> \n",
       "        <td id=\"T_2f1cf568_317a_11ea_85b2_a4d18ce38aa2row7_col7\" class=\"data row7 col7\" >1</td> \n",
       "        <td id=\"T_2f1cf568_317a_11ea_85b2_a4d18ce38aa2row7_col8\" class=\"data row7 col8\" >0.78</td> \n",
       "        <td id=\"T_2f1cf568_317a_11ea_85b2_a4d18ce38aa2row7_col9\" class=\"data row7 col9\" >0.22</td> \n",
       "        <td id=\"T_2f1cf568_317a_11ea_85b2_a4d18ce38aa2row7_col10\" class=\"data row7 col10\" >0.04</td> \n",
       "    </tr>    <tr> \n",
       "        <th id=\"T_2f1cf568_317a_11ea_85b2_a4d18ce38aa2level0_row8\" class=\"row_heading level0 row8\" >Albumin</th> \n",
       "        <td id=\"T_2f1cf568_317a_11ea_85b2_a4d18ce38aa2row8_col0\" class=\"data row8 col0\" >-0.27</td> \n",
       "        <td id=\"T_2f1cf568_317a_11ea_85b2_a4d18ce38aa2row8_col1\" class=\"data row8 col1\" >-0.09</td> \n",
       "        <td id=\"T_2f1cf568_317a_11ea_85b2_a4d18ce38aa2row8_col2\" class=\"data row8 col2\" >-0.22</td> \n",
       "        <td id=\"T_2f1cf568_317a_11ea_85b2_a4d18ce38aa2row8_col3\" class=\"data row8 col3\" >-0.23</td> \n",
       "        <td id=\"T_2f1cf568_317a_11ea_85b2_a4d18ce38aa2row8_col4\" class=\"data row8 col4\" >-0.17</td> \n",
       "        <td id=\"T_2f1cf568_317a_11ea_85b2_a4d18ce38aa2row8_col5\" class=\"data row8 col5\" >-0.03</td> \n",
       "        <td id=\"T_2f1cf568_317a_11ea_85b2_a4d18ce38aa2row8_col6\" class=\"data row8 col6\" >-0.09</td> \n",
       "        <td id=\"T_2f1cf568_317a_11ea_85b2_a4d18ce38aa2row8_col7\" class=\"data row8 col7\" >0.78</td> \n",
       "        <td id=\"T_2f1cf568_317a_11ea_85b2_a4d18ce38aa2row8_col8\" class=\"data row8 col8\" >1</td> \n",
       "        <td id=\"T_2f1cf568_317a_11ea_85b2_a4d18ce38aa2row8_col9\" class=\"data row8 col9\" >0.65</td> \n",
       "        <td id=\"T_2f1cf568_317a_11ea_85b2_a4d18ce38aa2row8_col10\" class=\"data row8 col10\" >0.16</td> \n",
       "    </tr>    <tr> \n",
       "        <th id=\"T_2f1cf568_317a_11ea_85b2_a4d18ce38aa2level0_row9\" class=\"row_heading level0 row9\" >Albumin_and_Globulin_Ratio</th> \n",
       "        <td id=\"T_2f1cf568_317a_11ea_85b2_a4d18ce38aa2row9_col0\" class=\"data row9 col0\" >-0.2</td> \n",
       "        <td id=\"T_2f1cf568_317a_11ea_85b2_a4d18ce38aa2row9_col1\" class=\"data row9 col1\" >0.01</td> \n",
       "        <td id=\"T_2f1cf568_317a_11ea_85b2_a4d18ce38aa2row9_col2\" class=\"data row9 col2\" >-0.19</td> \n",
       "        <td id=\"T_2f1cf568_317a_11ea_85b2_a4d18ce38aa2row9_col3\" class=\"data row9 col3\" >-0.19</td> \n",
       "        <td id=\"T_2f1cf568_317a_11ea_85b2_a4d18ce38aa2row9_col4\" class=\"data row9 col4\" >-0.22</td> \n",
       "        <td id=\"T_2f1cf568_317a_11ea_85b2_a4d18ce38aa2row9_col5\" class=\"data row9 col5\" >0</td> \n",
       "        <td id=\"T_2f1cf568_317a_11ea_85b2_a4d18ce38aa2row9_col6\" class=\"data row9 col6\" >-0.06</td> \n",
       "        <td id=\"T_2f1cf568_317a_11ea_85b2_a4d18ce38aa2row9_col7\" class=\"data row9 col7\" >0.22</td> \n",
       "        <td id=\"T_2f1cf568_317a_11ea_85b2_a4d18ce38aa2row9_col8\" class=\"data row9 col8\" >0.65</td> \n",
       "        <td id=\"T_2f1cf568_317a_11ea_85b2_a4d18ce38aa2row9_col9\" class=\"data row9 col9\" >1</td> \n",
       "        <td id=\"T_2f1cf568_317a_11ea_85b2_a4d18ce38aa2row9_col10\" class=\"data row9 col10\" >0.15</td> \n",
       "    </tr>    <tr> \n",
       "        <th id=\"T_2f1cf568_317a_11ea_85b2_a4d18ce38aa2level0_row10\" class=\"row_heading level0 row10\" >Dataset</th> \n",
       "        <td id=\"T_2f1cf568_317a_11ea_85b2_a4d18ce38aa2row10_col0\" class=\"data row10 col0\" >-0.14</td> \n",
       "        <td id=\"T_2f1cf568_317a_11ea_85b2_a4d18ce38aa2row10_col1\" class=\"data row10 col1\" >-0.08</td> \n",
       "        <td id=\"T_2f1cf568_317a_11ea_85b2_a4d18ce38aa2row10_col2\" class=\"data row10 col2\" >-0.22</td> \n",
       "        <td id=\"T_2f1cf568_317a_11ea_85b2_a4d18ce38aa2row10_col3\" class=\"data row10 col3\" >-0.25</td> \n",
       "        <td id=\"T_2f1cf568_317a_11ea_85b2_a4d18ce38aa2row10_col4\" class=\"data row10 col4\" >-0.18</td> \n",
       "        <td id=\"T_2f1cf568_317a_11ea_85b2_a4d18ce38aa2row10_col5\" class=\"data row10 col5\" >-0.16</td> \n",
       "        <td id=\"T_2f1cf568_317a_11ea_85b2_a4d18ce38aa2row10_col6\" class=\"data row10 col6\" >-0.15</td> \n",
       "        <td id=\"T_2f1cf568_317a_11ea_85b2_a4d18ce38aa2row10_col7\" class=\"data row10 col7\" >0.04</td> \n",
       "        <td id=\"T_2f1cf568_317a_11ea_85b2_a4d18ce38aa2row10_col8\" class=\"data row10 col8\" >0.16</td> \n",
       "        <td id=\"T_2f1cf568_317a_11ea_85b2_a4d18ce38aa2row10_col9\" class=\"data row10 col9\" >0.15</td> \n",
       "        <td id=\"T_2f1cf568_317a_11ea_85b2_a4d18ce38aa2row10_col10\" class=\"data row10 col10\" >1</td> \n",
       "    </tr></tbody> \n",
       "</table> "
      ],
      "text/plain": [
       "<pandas.io.formats.style.Styler at 0x1a22247940>"
      ]
     },
     "execution_count": 126,
     "metadata": {},
     "output_type": "execute_result"
    }
   ],
   "source": [
    "corr = data.corr()\n",
    "corr = corr.round(2)\n",
    "corr.style.background_gradient(cmap='coolwarm')"
   ]
  },
  {
   "cell_type": "code",
   "execution_count": 144,
   "metadata": {},
   "outputs": [],
   "source": [
    "data_1 = data.drop(columns=['Aspartate_Aminotransferase', 'Direct_Bilirubin'])"
   ]
  },
  {
   "cell_type": "code",
   "execution_count": 145,
   "metadata": {
    "collapsed": true
   },
   "outputs": [],
   "source": [
    "X = data_1.drop('Dataset', axis=1)"
   ]
  },
  {
   "cell_type": "code",
   "execution_count": 146,
   "metadata": {
    "collapsed": true
   },
   "outputs": [],
   "source": [
    "X_train, X_test, y_train, y_test = train_test_split(X, y, test_size=0.2, random_state=25)"
   ]
  },
  {
   "cell_type": "code",
   "execution_count": 147,
   "metadata": {
    "collapsed": true
   },
   "outputs": [],
   "source": [
    "model = LogisticRegression(solver='newton-cg').fit(X_train, y_train)"
   ]
  },
  {
   "cell_type": "code",
   "execution_count": 148,
   "metadata": {},
   "outputs": [
    {
     "name": "stdout",
     "output_type": "stream",
     "text": [
      "             precision    recall  f1-score   support\n",
      "\n",
      "          1       0.77      0.95      0.85        88\n",
      "          2       0.50      0.14      0.22        29\n",
      "\n",
      "avg / total       0.70      0.75      0.70       117\n",
      "\n"
     ]
    }
   ],
   "source": [
    "from sklearn.metrics import classification_report\n",
    "model_pred = model.predict(X_test)\n",
    "print(classification_report(y_test, model_pred))"
   ]
  },
  {
   "cell_type": "code",
   "execution_count": 157,
   "metadata": {},
   "outputs": [
    {
     "data": {
      "text/html": [
       "<div>\n",
       "<style scoped>\n",
       "    .dataframe tbody tr th:only-of-type {\n",
       "        vertical-align: middle;\n",
       "    }\n",
       "\n",
       "    .dataframe tbody tr th {\n",
       "        vertical-align: top;\n",
       "    }\n",
       "\n",
       "    .dataframe thead th {\n",
       "        text-align: right;\n",
       "    }\n",
       "</style>\n",
       "<table border=\"1\" class=\"dataframe\">\n",
       "  <thead>\n",
       "    <tr style=\"text-align: right;\">\n",
       "      <th></th>\n",
       "      <th>Age</th>\n",
       "      <th>Dataset</th>\n",
       "    </tr>\n",
       "  </thead>\n",
       "  <tbody>\n",
       "    <tr>\n",
       "      <th>0</th>\n",
       "      <td>65</td>\n",
       "      <td>1</td>\n",
       "    </tr>\n",
       "    <tr>\n",
       "      <th>1</th>\n",
       "      <td>62</td>\n",
       "      <td>1</td>\n",
       "    </tr>\n",
       "    <tr>\n",
       "      <th>2</th>\n",
       "      <td>62</td>\n",
       "      <td>1</td>\n",
       "    </tr>\n",
       "    <tr>\n",
       "      <th>3</th>\n",
       "      <td>58</td>\n",
       "      <td>1</td>\n",
       "    </tr>\n",
       "    <tr>\n",
       "      <th>4</th>\n",
       "      <td>72</td>\n",
       "      <td>1</td>\n",
       "    </tr>\n",
       "  </tbody>\n",
       "</table>\n",
       "</div>"
      ],
      "text/plain": [
       "   Age  Dataset\n",
       "0   65        1\n",
       "1   62        1\n",
       "2   62        1\n",
       "3   58        1\n",
       "4   72        1"
      ]
     },
     "execution_count": 157,
     "metadata": {},
     "output_type": "execute_result"
    }
   ],
   "source": [
    "age_comparison = data[['Age','Dataset']]\n",
    "age_comparison.head()"
   ]
  },
  {
   "cell_type": "code",
   "execution_count": 164,
   "metadata": {},
   "outputs": [
    {
     "data": {
      "text/plain": [
       "0    True\n",
       "1    True\n",
       "2    True\n",
       "3    True\n",
       "4    True\n",
       "Name: Age, dtype: bool"
      ]
     },
     "execution_count": 164,
     "metadata": {},
     "output_type": "execute_result"
    }
   ],
   "source": [
    "mask = age_comparison['Age']>=50\n",
    "mask.head()"
   ]
  },
  {
   "cell_type": "code",
   "execution_count": 168,
   "metadata": {},
   "outputs": [
    {
     "data": {
      "text/html": [
       "<div>\n",
       "<style scoped>\n",
       "    .dataframe tbody tr th:only-of-type {\n",
       "        vertical-align: middle;\n",
       "    }\n",
       "\n",
       "    .dataframe tbody tr th {\n",
       "        vertical-align: top;\n",
       "    }\n",
       "\n",
       "    .dataframe thead th {\n",
       "        text-align: right;\n",
       "    }\n",
       "</style>\n",
       "<table border=\"1\" class=\"dataframe\">\n",
       "  <thead>\n",
       "    <tr style=\"text-align: right;\">\n",
       "      <th></th>\n",
       "      <th>Age</th>\n",
       "      <th>Dataset</th>\n",
       "    </tr>\n",
       "  </thead>\n",
       "  <tbody>\n",
       "    <tr>\n",
       "      <th>0</th>\n",
       "      <td>65</td>\n",
       "      <td>1</td>\n",
       "    </tr>\n",
       "    <tr>\n",
       "      <th>1</th>\n",
       "      <td>62</td>\n",
       "      <td>1</td>\n",
       "    </tr>\n",
       "    <tr>\n",
       "      <th>2</th>\n",
       "      <td>62</td>\n",
       "      <td>1</td>\n",
       "    </tr>\n",
       "    <tr>\n",
       "      <th>3</th>\n",
       "      <td>58</td>\n",
       "      <td>1</td>\n",
       "    </tr>\n",
       "    <tr>\n",
       "      <th>4</th>\n",
       "      <td>72</td>\n",
       "      <td>1</td>\n",
       "    </tr>\n",
       "  </tbody>\n",
       "</table>\n",
       "</div>"
      ],
      "text/plain": [
       "   Age  Dataset\n",
       "0   65        1\n",
       "1   62        1\n",
       "2   62        1\n",
       "3   58        1\n",
       "4   72        1"
      ]
     },
     "execution_count": 168,
     "metadata": {},
     "output_type": "execute_result"
    }
   ],
   "source": [
    "age_comparison1, age_comparison2 = age_comparison[mask], age_comparison[~mask]\n",
    "age_comparison1.head()"
   ]
  },
  {
   "cell_type": "code",
   "execution_count": 171,
   "metadata": {},
   "outputs": [
    {
     "data": {
      "text/html": [
       "<div>\n",
       "<style scoped>\n",
       "    .dataframe tbody tr th:only-of-type {\n",
       "        vertical-align: middle;\n",
       "    }\n",
       "\n",
       "    .dataframe tbody tr th {\n",
       "        vertical-align: top;\n",
       "    }\n",
       "\n",
       "    .dataframe thead th {\n",
       "        text-align: right;\n",
       "    }\n",
       "</style>\n",
       "<table border=\"1\" class=\"dataframe\">\n",
       "  <thead>\n",
       "    <tr style=\"text-align: right;\">\n",
       "      <th></th>\n",
       "      <th>Age</th>\n",
       "      <th>Dataset</th>\n",
       "    </tr>\n",
       "  </thead>\n",
       "  <tbody>\n",
       "    <tr>\n",
       "      <th>count</th>\n",
       "      <td>230.000000</td>\n",
       "      <td>230.000000</td>\n",
       "    </tr>\n",
       "    <tr>\n",
       "      <th>mean</th>\n",
       "      <td>60.960870</td>\n",
       "      <td>1.239130</td>\n",
       "    </tr>\n",
       "    <tr>\n",
       "      <th>std</th>\n",
       "      <td>8.036121</td>\n",
       "      <td>0.427483</td>\n",
       "    </tr>\n",
       "    <tr>\n",
       "      <th>min</th>\n",
       "      <td>50.000000</td>\n",
       "      <td>1.000000</td>\n",
       "    </tr>\n",
       "    <tr>\n",
       "      <th>25%</th>\n",
       "      <td>55.000000</td>\n",
       "      <td>1.000000</td>\n",
       "    </tr>\n",
       "    <tr>\n",
       "      <th>50%</th>\n",
       "      <td>60.000000</td>\n",
       "      <td>1.000000</td>\n",
       "    </tr>\n",
       "    <tr>\n",
       "      <th>75%</th>\n",
       "      <td>66.000000</td>\n",
       "      <td>1.000000</td>\n",
       "    </tr>\n",
       "    <tr>\n",
       "      <th>max</th>\n",
       "      <td>90.000000</td>\n",
       "      <td>2.000000</td>\n",
       "    </tr>\n",
       "  </tbody>\n",
       "</table>\n",
       "</div>"
      ],
      "text/plain": [
       "              Age     Dataset\n",
       "count  230.000000  230.000000\n",
       "mean    60.960870    1.239130\n",
       "std      8.036121    0.427483\n",
       "min     50.000000    1.000000\n",
       "25%     55.000000    1.000000\n",
       "50%     60.000000    1.000000\n",
       "75%     66.000000    1.000000\n",
       "max     90.000000    2.000000"
      ]
     },
     "execution_count": 171,
     "metadata": {},
     "output_type": "execute_result"
    }
   ],
   "source": [
    "age_comparison1.describe()"
   ]
  },
  {
   "cell_type": "code",
   "execution_count": 172,
   "metadata": {},
   "outputs": [
    {
     "data": {
      "text/html": [
       "<div>\n",
       "<style scoped>\n",
       "    .dataframe tbody tr th:only-of-type {\n",
       "        vertical-align: middle;\n",
       "    }\n",
       "\n",
       "    .dataframe tbody tr th {\n",
       "        vertical-align: top;\n",
       "    }\n",
       "\n",
       "    .dataframe thead th {\n",
       "        text-align: right;\n",
       "    }\n",
       "</style>\n",
       "<table border=\"1\" class=\"dataframe\">\n",
       "  <thead>\n",
       "    <tr style=\"text-align: right;\">\n",
       "      <th></th>\n",
       "      <th>Age</th>\n",
       "      <th>Dataset</th>\n",
       "    </tr>\n",
       "  </thead>\n",
       "  <tbody>\n",
       "    <tr>\n",
       "      <th>count</th>\n",
       "      <td>353.000000</td>\n",
       "      <td>353.000000</td>\n",
       "    </tr>\n",
       "    <tr>\n",
       "      <th>mean</th>\n",
       "      <td>34.181303</td>\n",
       "      <td>1.317280</td>\n",
       "    </tr>\n",
       "    <tr>\n",
       "      <th>std</th>\n",
       "      <td>10.374849</td>\n",
       "      <td>0.466078</td>\n",
       "    </tr>\n",
       "    <tr>\n",
       "      <th>min</th>\n",
       "      <td>4.000000</td>\n",
       "      <td>1.000000</td>\n",
       "    </tr>\n",
       "    <tr>\n",
       "      <th>25%</th>\n",
       "      <td>27.000000</td>\n",
       "      <td>1.000000</td>\n",
       "    </tr>\n",
       "    <tr>\n",
       "      <th>50%</th>\n",
       "      <td>35.000000</td>\n",
       "      <td>1.000000</td>\n",
       "    </tr>\n",
       "    <tr>\n",
       "      <th>75%</th>\n",
       "      <td>42.000000</td>\n",
       "      <td>2.000000</td>\n",
       "    </tr>\n",
       "    <tr>\n",
       "      <th>max</th>\n",
       "      <td>49.000000</td>\n",
       "      <td>2.000000</td>\n",
       "    </tr>\n",
       "  </tbody>\n",
       "</table>\n",
       "</div>"
      ],
      "text/plain": [
       "              Age     Dataset\n",
       "count  353.000000  353.000000\n",
       "mean    34.181303    1.317280\n",
       "std     10.374849    0.466078\n",
       "min      4.000000    1.000000\n",
       "25%     27.000000    1.000000\n",
       "50%     35.000000    1.000000\n",
       "75%     42.000000    2.000000\n",
       "max     49.000000    2.000000"
      ]
     },
     "execution_count": 172,
     "metadata": {},
     "output_type": "execute_result"
    }
   ],
   "source": [
    "age_comparison2.describe()"
   ]
  },
  {
   "cell_type": "code",
   "execution_count": 176,
   "metadata": {},
   "outputs": [
    {
     "data": {
      "text/plain": [
       "<matplotlib.axes._subplots.AxesSubplot at 0x1a23abfac8>"
      ]
     },
     "execution_count": 176,
     "metadata": {},
     "output_type": "execute_result"
    },
    {
     "data": {
      "image/png": "[encoded data removed]",
      "text/plain": [
       "<matplotlib.figure.Figure at 0x1a23acfac8>"
      ]
     },
     "metadata": {},
     "output_type": "display_data"
    }
   ],
   "source": [
    "age_comparison1.plot(x='Age', y='Dataset', kind='hist')"
   ]
  },
  {
   "cell_type": "code",
   "execution_count": 174,
   "metadata": {},
   "outputs": [
    {
     "data": {
      "text/plain": [
       "<matplotlib.axes._subplots.AxesSubplot at 0x1a23b22940>"
      ]
     },
     "execution_count": 174,
     "metadata": {},
     "output_type": "execute_result"
    },
    {
     "data": {
      "image/png": "[encoded data removed]",
      "text/plain": [
       "<matplotlib.figure.Figure at 0x1a23afbb00>"
      ]
     },
     "metadata": {},
     "output_type": "display_data"
    }
   ],
   "source": [
    "age_comparison2.plot( x='Age', y='Dataset', kind='hist')"
   ]
  },
  {
   "cell_type": "code",
   "execution_count": 178,
   "metadata": {},
   "outputs": [
    {
     "data": {
      "text/plain": [
       "Ttest_1sampResult(statistic=2.471063305746647, pvalue=0.013871861207640042)"
      ]
     },
     "execution_count": 178,
     "metadata": {},
     "output_type": "execute_result"
    }
   ],
   "source": [
    "sick_bilirubin = data[data['Dataset']==1]['Total_Bilirubin']\n",
    "stats.ttest_1samp(sick_bilirubin, data['Total_Bilirubin'].mean())\n",
    "#Есть статистически значительная разница между показателем группы больных людей и выборкой в целом, поскольку pvalue < 0.05"
   ]
  },
  {
   "cell_type": "code",
   "execution_count": 180,
   "metadata": {},
   "outputs": [
    {
     "data": {
      "text/plain": [
       "Ttest_indResult(statistic=5.441441126834863, pvalue=7.801430929364345e-08)"
      ]
     },
     "execution_count": 180,
     "metadata": {},
     "output_type": "execute_result"
    }
   ],
   "source": [
    "sick_bilirubin = data[data['Dataset']==1]['Total_Bilirubin']\n",
    "healthy_bilirubin = data[data['Dataset']==2]['Total_Bilirubin']\n",
    "stats.ttest_ind(sick_bilirubin, healthy_bilirubin)\n",
    "# разница между группами статистически значима"
   ]
  },
  {
   "cell_type": "code",
   "execution_count": 186,
   "metadata": {},
   "outputs": [
    {
     "data": {
      "text/plain": [
       "F_onewayResult(statistic=8.94859038642867, pvalue=0.0001487412758755181)"
      ]
     },
     "execution_count": 186,
     "metadata": {},
     "output_type": "execute_result"
    }
   ],
   "source": [
    "young = data[data['Age']<=30]['Dataset']\n",
    "mid_aged = data[data['Age'].between(31, 49)]['Dataset']\n",
    "mature = data[data['Age']>=50]['Dataset']\n",
    "stats.f_oneway(young, mid_aged, mature)\n",
    "# разница между группами статистически значима"
   ]
  },
  {
   "cell_type": "markdown",
   "metadata": {},
   "source": [
    "Dataset: пациент с болезнью печени - 1,\n",
    "         пациент не болеет - 2"
   ]
  },
  {
   "cell_type": "markdown",
   "metadata": {
    "colab_type": "text",
    "id": "3v0ZWcBVSOXK"
   },
   "source": [
    "Построить одномерную линейную регрессию Direct_Bilirubin и Total_Bilirubin, предварительно разделив данные на 80% тренировочных и 20% тестовых. Построить график: исходных тренировочных и тестовых данных, а также прямой линейной регрессии."
   ]
  },
  {
   "cell_type": "markdown",
   "metadata": {},
   "source": [
    "Построить одномерную полиномиальную регрессию на Direct_Bilirubin и Total_Bilirubin, используя тренировочные и тестовые данные из шага выше. Проверить точность предсказаний на тестовых данных. Получилось ли улучшить результат?"
   ]
  },
  {
   "cell_type": "markdown",
   "metadata": {
    "colab_type": "text",
    "id": "bv5rdcvPSi_O"
   },
   "source": [
    "Построить многомерную **логистическую регрессию** для предсказания болезни (Dataset) от всех параметров, предварительно разделив данные на 80% тренировочных и 20% тестовых. Сделать классификационный отчет (куда включить количество найденных параметров true positive и false negative). Посмотреть какой получился результат.\n",
    "\n",
    "Улучшить модель за счет уменьшения параметров, отобранных для обучения модели. Выбрать только те атрибуты, которые коррелируют с таргет значением (атрибут Dataset) более 50% (нужно будет построить матрицу корреляций и посмотреть в ней параметры, наиболее коррелирующие с Dataset атрибутом). Проверить модель на тестовых данных, полученных выше. Построить классификационный отчет, сделать сравнение двух моделей по этим классификационным отчетам."
   ]
  },
  {
   "cell_type": "markdown",
   "metadata": {
    "colab_type": "text",
    "id": "ZWc_9uF3PQIo"
   },
   "source": [
    "Посчитать квартили для всех колонок. "
   ]
  },
  {
   "cell_type": "markdown",
   "metadata": {
    "colab_type": "text",
    "id": "7kwq4rqzOoz1"
   },
   "source": [
    "Построить график histogram двух выборок по наличию или отсутствию болезни: люди, возрастом до 50 лет, и люди после 50 лет. Посчитать среднее значение и квартиль 0.5 в данных выборках. Чем они отличаются?"
   ]
  },
  {
   "cell_type": "markdown",
   "metadata": {
    "colab_type": "text",
    "id": "QZVd-KyDQq38"
   },
   "source": [
    "\n",
    "Посчитать критерий одновыборочный t-критерий для выборки по критерию Total_Bilirubin у больных людей. Как показатель помогает понять, что выборки не похожа на генеральную совокупность?"
   ]
  },
  {
   "cell_type": "markdown",
   "metadata": {
    "colab_type": "text",
    "id": "dI901FRqRC8A"
   },
   "source": [
    "Посчитать критерий t для двух выборок: больные и здоровые (по критерию Total_Bilirubin). Имеют ли данные группы схожесть?"
   ]
  },
  {
   "cell_type": "markdown",
   "metadata": {
    "colab_type": "text",
    "id": "2e0YHsEqAnvv"
   },
   "source": [
    "Посчитать статистическую значимость для трех выборок (по возрасту) - 1ая группа от 1 до 30 лет, 2ая группа от 30 лет до 55, 3я группа более 55 по выборке Dataset. Сравнить с реальностью (они логично что будут отличаться)."
   ]
  },
  {
   "cell_type": "markdown",
   "metadata": {
    "colab_type": "text",
    "id": "Jm1ESbSRRPOP"
   },
   "source": [
    "Вопросы задавать на почту yustiks@gmail.com"
   ]
  }
 ],
 "metadata": {
  "colab": {
   "collapsed_sections": [],
   "name": "dz_3.ipynb",
   "provenance": [],
   "toc_visible": true,
   "version": "0.3.2"
  },
  "kernelspec": {
   "display_name": "Python 3",
   "language": "python",
   "name": "python3"
  },
  "language_info": {
   "codemirror_mode": {
    "name": "ipython",
    "version": 3
   },
   "file_extension": ".py",
   "mimetype": "text/x-python",
   "name": "python",
   "nbconvert_exporter": "python",
   "pygments_lexer": "ipython3",
   "version": "3.6.8"
  }
 },
 "nbformat": 4,
 "nbformat_minor": 1
}
